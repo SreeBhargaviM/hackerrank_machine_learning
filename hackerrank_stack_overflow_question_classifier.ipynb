{
  "nbformat": 4,
  "nbformat_minor": 0,
  "metadata": {
    "colab": {
      "name": "hackerrank_stack_overflow_question_classifier",
      "provenance": [],
      "authorship_tag": "ABX9TyPyJ6Sl9bpWuZhmQcQW+Ijq",
      "include_colab_link": true
    },
    "kernelspec": {
      "name": "python3",
      "display_name": "Python 3"
    },
    "language_info": {
      "name": "python"
    }
  },
  "cells": [
    {
      "cell_type": "markdown",
      "metadata": {
        "id": "view-in-github",
        "colab_type": "text"
      },
      "source": [
        "<a href=\"https://colab.research.google.com/github/SreeBhargaviM/hackerrank_machine_learning/blob/main/hackerrank_stack_overflow_question_classifier.ipynb\" target=\"_parent\"><img src=\"https://colab.research.google.com/assets/colab-badge.svg\" alt=\"Open In Colab\"/></a>"
      ]
    },
    {
      "cell_type": "markdown",
      "metadata": {
        "id": "mcouPhS2zKLP"
      },
      "source": [
        "Input Format\n",
        "The first line will be an integer N. N lines follow each line being a valid JSON object. The following fields of raw data are given in json\n",
        "\n",
        "question (string) : The text in the title of the question.\n",
        "excerpt (string) : Excerpt of the question body.\n",
        "topic (string) : The topic under which the question was posted.\n",
        "The input for the program has all the fields but topic which you have to predict as the answer.\n",
        "\n",
        "Constraints\n",
        "1 <= N <= 22000\n",
        "topic is of ascii format\n",
        "question is of UTF-8 format\n",
        "excerpt is of UTF-8 format\n",
        "\n",
        "Output Format\n",
        "For each question that is given as a JSON object, output the topic of the question as predicted by your model separated by newlines."
      ]
    },
    {
      "cell_type": "code",
      "metadata": {
        "id": "RjV-xGrFzFsZ"
      },
      "source": [
        "# Enter your code here. Read input from STDIN. Print output to STDOUT\n",
        "import json\n",
        "import pandas as pd\n",
        "from sklearn.feature_extraction.text import CountVectorizer, TfidfTransformer\n",
        "from sklearn.svm import LinearSVC\n",
        "from sklearn.pipeline import Pipeline\n",
        "from sklearn.metrics import accuracy_score\n",
        "\n",
        "def read_file(fn):\n",
        "    return open(fn, 'r').readlines()\n",
        "\n",
        "def get_train_test_data():\n",
        "    #with open(\"training.json\",'r') as f:\n",
        "    obj = [json.loads(line) for line in read_file(\"training.json\")[1:]]\n",
        "    #obj = json.load(f)\n",
        "    train_data = pd.DataFrame(obj)\n",
        "    #print(train_data.head())\n",
        "    test_count = int(input())\n",
        "    test_data = []\n",
        "    for _ in range(test_count):\n",
        "        test_obj = input()\n",
        "        test = json.loads(test_obj)\n",
        "        #print(test)\n",
        "        test_data.append(test)\n",
        "    test_data = pd.DataFrame(test_data)\n",
        "    return train_data, test_data\n",
        "\n",
        "def combine_sentences(data):\n",
        "    comb = []\n",
        "    for index, row in data.iterrows():\n",
        "        comb.append(row[\"question\"]+\" \"+row[\"excerpt\"])\n",
        "    new_data = pd.DataFrame()\n",
        "    new_data[\"features\"] = comb\n",
        "    return new_data\n",
        "        \n",
        "def train_classifier():\n",
        "    train, test = get_train_test_data()\n",
        "    x_train = train[[\"question\", \"excerpt\"]]\n",
        "    y_train = train[[\"topic\"]]\n",
        "    x_train = combine_sentences(x_train)\n",
        "    x_test = combine_sentences(test)\n",
        "    x_train = list(x_train[\"features\"])\n",
        "    y_train = list(y_train[\"topic\"])\n",
        "    x_test = list(x_test[\"features\"])\n",
        "    pipe = Pipeline([('vect', CountVectorizer()), ('tfidf', TfidfTransformer()), ('clf',        LinearSVC())])\n",
        "    pipe.fit(x_train, y_train)\n",
        "    y_test = pipe.predict(x_test)\n",
        "    for elem in y_test:\n",
        "        print(elem)\n"
      ],
      "execution_count": null,
      "outputs": []
    },
    {
      "cell_type": "code",
      "metadata": {
        "id": "cqkf0gP9zIxx"
      },
      "source": [
        "train_classifier()"
      ],
      "execution_count": null,
      "outputs": []
    }
  ]
}